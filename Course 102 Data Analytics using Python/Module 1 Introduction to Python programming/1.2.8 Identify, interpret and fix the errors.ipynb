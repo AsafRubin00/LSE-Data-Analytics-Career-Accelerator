{
 "cells": [
  {
   "cell_type": "markdown",
   "metadata": {},
   "source": [
    "### LSE Data Analytics Online Career Accelerator \n",
    "\n",
    "# DA201:  Data Analytics using Python"
   ]
  },
  {
   "cell_type": "markdown",
   "metadata": {},
   "source": [
    "## Practical activity: Identify, interpret, and fix the errors"
   ]
  },
  {
   "cell_type": "markdown",
   "metadata": {},
   "source": [
    "**Scenario**\n",
    "\n",
    "Your team member has a set of erroneous Python code and they've asked you for help. Project deadlines are looming and the work is threatening to pile up. After fighting the urge to preach the virtues of programming with the right problem-solving mindset to your clearly distressed colleague, you happily commit 10 minutes of your time to help them out and keep the project on track.\n",
    "\n",
    "As a senior member of the team, you are expected to consider the following questions when encountering an error in the code:\n",
    "- Why is it an error?\n",
    "- What caused the error?\n",
    "- How do you interpret the error message?"
   ]
  },
  {
   "cell_type": "markdown",
   "metadata": {
    "id": "nCJn_LW7XTAB"
   },
   "source": [
    "## Code 1"
   ]
  },
  {
   "cell_type": "code",
   "execution_count": 1,
   "metadata": {
    "executionInfo": {
     "elapsed": 38,
     "status": "ok",
     "timestamp": 1633875981134,
     "user": {
      "displayName": "Jeevak Ghosh",
      "photoUrl": "https://lh3.googleusercontent.com/a/default-user=s64",
      "userId": "10153434038967682924"
     },
     "user_tz": -330
    },
    "id": "O-CSXJoBXige"
   },
   "outputs": [
    {
     "ename": "NameError",
     "evalue": "name 'total_price' is not defined",
     "output_type": "error",
     "traceback": [
      "\u001b[1;31m---------------------------------------------------------------------------\u001b[0m",
      "\u001b[1;31mNameError\u001b[0m                                 Traceback (most recent call last)",
      "\u001b[1;32m~\\AppData\\Local\\Temp\\ipykernel_9180\\1919369116.py\u001b[0m in \u001b[0;36m<module>\u001b[1;34m\u001b[0m\n\u001b[0;32m      3\u001b[0m \u001b[0msales_price\u001b[0m \u001b[1;33m=\u001b[0m \u001b[1;36m24500\u001b[0m\u001b[1;33m\u001b[0m\u001b[1;33m\u001b[0m\u001b[0m\n\u001b[0;32m      4\u001b[0m \u001b[1;33m\u001b[0m\u001b[0m\n\u001b[1;32m----> 5\u001b[1;33m \u001b[0mprint\u001b[0m\u001b[1;33m(\u001b[0m\u001b[0mtotal_price\u001b[0m\u001b[1;33m)\u001b[0m\u001b[1;33m\u001b[0m\u001b[1;33m\u001b[0m\u001b[0m\n\u001b[0m",
      "\u001b[1;31mNameError\u001b[0m: name 'total_price' is not defined"
     ]
    }
   ],
   "source": [
    "# Code 1\n",
    "# Print the price\n",
    "sales_price = 24500\n",
    "\n",
    "print(total_price)"
   ]
  },
  {
   "cell_type": "code",
   "execution_count": 2,
   "metadata": {
    "colab": {
     "base_uri": "https://localhost:8080/"
    },
    "executionInfo": {
     "elapsed": 36,
     "status": "ok",
     "timestamp": 1633875981135,
     "user": {
      "displayName": "Jeevak Ghosh",
      "photoUrl": "https://lh3.googleusercontent.com/a/default-user=s64",
      "userId": "10153434038967682924"
     },
     "user_tz": -330
    },
    "id": "HFTffaTBXGnk",
    "outputId": "fa4f158c-a1fc-4db2-bcff-482e7e58f6ce"
   },
   "outputs": [
    {
     "name": "stdout",
     "output_type": "stream",
     "text": [
      "24500\n"
     ]
    }
   ],
   "source": [
    "# The code above tries to print the wrong variable name!\n",
    "\n",
    "# Code 1 - solution\n",
    "# Print the sales price\n",
    "sales_price = 24500\n",
    "\n",
    "print(sales_price)"
   ]
  },
  {
   "cell_type": "markdown",
   "metadata": {},
   "source": [
    "# "
   ]
  },
  {
   "cell_type": "markdown",
   "metadata": {
    "id": "w8l2qfcvX8dS"
   },
   "source": [
    "## Code 2"
   ]
  },
  {
   "cell_type": "code",
   "execution_count": 3,
   "metadata": {
    "executionInfo": {
     "elapsed": 20,
     "status": "ok",
     "timestamp": 1633875981135,
     "user": {
      "displayName": "Jeevak Ghosh",
      "photoUrl": "https://lh3.googleusercontent.com/a/default-user=s64",
      "userId": "10153434038967682924"
     },
     "user_tz": -330
    },
    "id": "Af43qOfyYNSZ"
   },
   "outputs": [
    {
     "ename": "SyntaxError",
     "evalue": "Missing parentheses in call to 'print'. Did you mean print(\"My name is James Bond\")? (4261838916.py, line 3)",
     "output_type": "error",
     "traceback": [
      "\u001b[1;36m  File \u001b[1;32m\"C:\\Users\\ASARUB\\AppData\\Local\\Temp\\ipykernel_9180\\4261838916.py\"\u001b[1;36m, line \u001b[1;32m3\u001b[0m\n\u001b[1;33m    print \"My name is James Bond\"\u001b[0m\n\u001b[1;37m          ^\u001b[0m\n\u001b[1;31mSyntaxError\u001b[0m\u001b[1;31m:\u001b[0m Missing parentheses in call to 'print'. Did you mean print(\"My name is James Bond\")?\n"
     ]
    }
   ],
   "source": [
    "# Code 2\n",
    "# Print a text string verbatim\n",
    "print \"My name is James Bond\""
   ]
  },
  {
   "cell_type": "code",
   "execution_count": 4,
   "metadata": {},
   "outputs": [
    {
     "name": "stdout",
     "output_type": "stream",
     "text": [
      "My name is James Bond\n"
     ]
    }
   ],
   "source": [
    "# The code above is missing the () to contain the string\n",
    "\n",
    "# Code 2 - solution\n",
    "# Print a text string verbatim\n",
    "print(\"My name is James Bond\")"
   ]
  },
  {
   "cell_type": "markdown",
   "metadata": {},
   "source": [
    "# "
   ]
  },
  {
   "cell_type": "markdown",
   "metadata": {
    "id": "rPFBlg86ZdLw"
   },
   "source": [
    "## Code 3"
   ]
  },
  {
   "cell_type": "code",
   "execution_count": 5,
   "metadata": {},
   "outputs": [
    {
     "ename": "IndentationError",
     "evalue": "expected an indented block (3678598668.py, line 6)",
     "output_type": "error",
     "traceback": [
      "\u001b[1;36m  File \u001b[1;32m\"C:\\Users\\ASARUB\\AppData\\Local\\Temp\\ipykernel_9180\\3678598668.py\"\u001b[1;36m, line \u001b[1;32m6\u001b[0m\n\u001b[1;33m    print('X is greater than 10')\u001b[0m\n\u001b[1;37m    ^\u001b[0m\n\u001b[1;31mIndentationError\u001b[0m\u001b[1;31m:\u001b[0m expected an indented block\n"
     ]
    }
   ],
   "source": [
    "# Code 3\n",
    "# Determine if x is greater than 10\n",
    "x = 11 \n",
    "\n",
    "if x > 10:\n",
    "print('X is greater than 10')\n",
    "else: \n",
    "    print('X is not greater than 10')"
   ]
  },
  {
   "cell_type": "code",
   "execution_count": 7,
   "metadata": {},
   "outputs": [
    {
     "name": "stdout",
     "output_type": "stream",
     "text": [
      "X is greater than 10\n"
     ]
    }
   ],
   "source": [
    "# The code above is mising an indentation on the second line before the first print statement\n",
    "\n",
    "# Code 3 - solution\n",
    "# Determine if x is greater than 10\n",
    "x = 11 \n",
    "\n",
    "if x > 10:\n",
    "    print(\"X is greater than 10\")\n",
    "else: \n",
    "    print(\"X is not greater than 10\")"
   ]
  },
  {
   "cell_type": "markdown",
   "metadata": {},
   "source": [
    "# "
   ]
  },
  {
   "cell_type": "markdown",
   "metadata": {
    "id": "XrRB7WlVcWo0"
   },
   "source": [
    "## Code 4: "
   ]
  },
  {
   "cell_type": "code",
   "execution_count": 11,
   "metadata": {
    "colab": {
     "base_uri": "https://localhost:8080/",
     "height": 414
    },
    "executionInfo": {
     "elapsed": 15,
     "status": "ok",
     "timestamp": 1633875981139,
     "user": {
      "displayName": "Jeevak Ghosh",
      "photoUrl": "https://lh3.googleusercontent.com/a/default-user=s64",
      "userId": "10153434038967682924"
     },
     "user_tz": -330
    },
    "id": "RMtuRRgFaDWz",
    "outputId": "72038d7b-7133-41c5-b5cd-01ec4e8c6624"
   },
   "outputs": [
    {
     "ename": "IndexError",
     "evalue": "list index out of range",
     "output_type": "error",
     "traceback": [
      "\u001b[1;31m---------------------------------------------------------------------------\u001b[0m",
      "\u001b[1;31mIndexError\u001b[0m                                Traceback (most recent call last)",
      "\u001b[1;32m~\\AppData\\Local\\Temp\\ipykernel_9180\\2087857125.py\u001b[0m in \u001b[0;36m<module>\u001b[1;34m\u001b[0m\n\u001b[0;32m      3\u001b[0m \u001b[0mlist_a\u001b[0m \u001b[1;33m=\u001b[0m \u001b[1;33m[\u001b[0m\u001b[1;36m1\u001b[0m\u001b[1;33m,\u001b[0m\u001b[1;36m2\u001b[0m\u001b[1;33m,\u001b[0m\u001b[1;36m3\u001b[0m\u001b[1;33m,\u001b[0m\u001b[1;36m4\u001b[0m\u001b[1;33m,\u001b[0m\u001b[1;34m'Ayaan'\u001b[0m\u001b[1;33m,\u001b[0m \u001b[1;34m'Hirsi'\u001b[0m\u001b[1;33m]\u001b[0m\u001b[1;33m\u001b[0m\u001b[1;33m\u001b[0m\u001b[0m\n\u001b[0;32m      4\u001b[0m \u001b[1;33m\u001b[0m\u001b[0m\n\u001b[1;32m----> 5\u001b[1;33m \u001b[0mlist_a\u001b[0m\u001b[1;33m[\u001b[0m\u001b[1;36m11\u001b[0m\u001b[1;33m]\u001b[0m\u001b[1;33m\u001b[0m\u001b[1;33m\u001b[0m\u001b[0m\n\u001b[0m",
      "\u001b[1;31mIndexError\u001b[0m: list index out of range"
     ]
    }
   ],
   "source": [
    "# Code 4\n",
    "# Create the variable list_a\n",
    "list_a = [1,2,3,4,'Ayaan', 'Hirsi']\n",
    "\n",
    "list_a[11]"
   ]
  },
  {
   "cell_type": "code",
   "execution_count": 9,
   "metadata": {
    "executionInfo": {
     "elapsed": 13,
     "status": "ok",
     "timestamp": 1633875981139,
     "user": {
      "displayName": "Jeevak Ghosh",
      "photoUrl": "https://lh3.googleusercontent.com/a/default-user=s64",
      "userId": "10153434038967682924"
     },
     "user_tz": -330
    },
    "id": "tYl-BBvkaHm9"
   },
   "outputs": [
    {
     "name": "stdout",
     "output_type": "stream",
     "text": [
      "[1, 2, 3, 4, 'Ayaan', 'Hirsi']\n"
     ]
    }
   ],
   "source": [
    "# The code above is attempting to list a variable that doesn't exist - there are only 6 variables in the list. \n",
    "\n",
    "# Code 4 - solution\n",
    "# Create the variable list_a\n",
    "list_a = [1, 2, 3, 4, 'Ayaan', 'Hirsi']\n",
    "\n",
    "list_a\n",
    "print(list_a)"
   ]
  },
  {
   "cell_type": "code",
   "execution_count": null,
   "metadata": {},
   "outputs": [],
   "source": []
  }
 ],
 "metadata": {
  "colab": {
   "collapsed_sections": [],
   "name": "1.3.3 Practical activity_ Work with DateTime packages.ipynb",
   "provenance": []
  },
  "kernelspec": {
   "display_name": "Python 3 (ipykernel)",
   "language": "python",
   "name": "python3"
  },
  "language_info": {
   "codemirror_mode": {
    "name": "ipython",
    "version": 3
   },
   "file_extension": ".py",
   "mimetype": "text/x-python",
   "name": "python",
   "nbconvert_exporter": "python",
   "pygments_lexer": "ipython3",
   "version": "3.9.13"
  }
 },
 "nbformat": 4,
 "nbformat_minor": 1
}
