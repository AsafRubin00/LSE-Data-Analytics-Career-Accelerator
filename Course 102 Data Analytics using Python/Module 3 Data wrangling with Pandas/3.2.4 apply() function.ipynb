{
 "cells": [
  {
   "cell_type": "markdown",
   "metadata": {},
   "source": [
    "### LSE Data Analytics Online Career Accelerator\n",
    "\n",
    "# DA201: Data Analytics Using Python"
   ]
  },
  {
   "cell_type": "markdown",
   "metadata": {},
   "source": [
    "## Practical activity: apply() function"
   ]
  },
  {
   "cell_type": "markdown",
   "metadata": {},
   "source": [
    "**Scenario**\n",
    "\n",
    "Mandisa Nkosi is working with with a political party that needs to decide how best to invest the available advertising budget. Mandisa believes she can gain some insights into potential advertising avenues by analysing films that are available on streaming platforms. \n",
    "\n",
    "This analysis uses the `movies_merge.xlsx` and `ott_merge.csv` data sets. To help the political party decide how it might best invest its budget, Mandisa will answer the following business questions:\n",
    "\n",
    "- What is the effect of adding 60 seconds (1 minute) to each movie?\n",
    "- Which movies are documentaries?\n",
    "\n",
    "The insights gained from the analysis will inform the campaign, promotional materials, slogans, and language the political party will use to reach potential voters."
   ]
  },
  {
   "cell_type": "markdown",
   "metadata": {},
   "source": [
    "### Prepare your workstation"
   ]
  },
  {
   "cell_type": "code",
   "execution_count": 2,
   "metadata": {},
   "outputs": [
    {
     "name": "stdout",
     "output_type": "stream",
     "text": [
      "Index(['ID', 'Title', 'Year', 'Age', 'IMDb', 'Rotten Tomatoes', 'Directors',\n",
      "       'Genres', 'Country', 'Language', 'Runtime'],\n",
      "      dtype='object')\n",
      "(16744, 11)\n",
      "Index(['ID', 'Netflix', 'Hulu', 'Prime Video', 'Disney+'], dtype='object')\n",
      "(16744, 5)\n",
      "Index(['ID', 'Title', 'Year', 'Age', 'IMDb', 'Rotten Tomatoes', 'Directors',\n",
      "       'Genres', 'Country', 'Language', 'Runtime', 'Netflix', 'Hulu',\n",
      "       'Prime Video', 'Disney+'],\n",
      "      dtype='object')\n",
      "(16744, 15)\n"
     ]
    }
   ],
   "source": [
    "# Import Pandas and NumPy.\n",
    "import pandas as pd\n",
    "import numpy as np\n",
    "\n",
    "# Load the excel data using pd.read_excel.\n",
    "movies = pd.read_excel('movies_merge.xlsx')\n",
    "\n",
    "# Load the csv data using pd.read_csv.\n",
    "ott = pd.read_csv('ott_merge.csv')\n",
    "\n",
    "# Data imported correctly?\n",
    "print(movies.columns)\n",
    "print(movies.shape)\n",
    "print(ott.columns)\n",
    "print(ott.shape)\n",
    "\n",
    "# Merge the two DataFrames.\n",
    "mov_ott = pd.merge(movies, ott, how='left', on = 'ID')\n",
    "\n",
    "# DataFrames merged correctly?\n",
    "print(mov_ott.columns)\n",
    "print(mov_ott.shape)"
   ]
  },
  {
   "cell_type": "markdown",
   "metadata": {},
   "source": [
    "# "
   ]
  },
  {
   "cell_type": "markdown",
   "metadata": {},
   "source": [
    "## Question 1: What is the effect of adding 60 seconds (1 minute) to each movie?"
   ]
  },
  {
   "cell_type": "code",
   "execution_count": 3,
   "metadata": {},
   "outputs": [
    {
     "data": {
      "text/html": [
       "<div>\n",
       "<style scoped>\n",
       "    .dataframe tbody tr th:only-of-type {\n",
       "        vertical-align: middle;\n",
       "    }\n",
       "\n",
       "    .dataframe tbody tr th {\n",
       "        vertical-align: top;\n",
       "    }\n",
       "\n",
       "    .dataframe thead th {\n",
       "        text-align: right;\n",
       "    }\n",
       "</style>\n",
       "<table border=\"1\" class=\"dataframe\">\n",
       "  <thead>\n",
       "    <tr style=\"text-align: right;\">\n",
       "      <th></th>\n",
       "      <th>ID</th>\n",
       "      <th>Runtime</th>\n",
       "      <th>Genres</th>\n",
       "    </tr>\n",
       "  </thead>\n",
       "  <tbody>\n",
       "    <tr>\n",
       "      <th>0</th>\n",
       "      <td>1</td>\n",
       "      <td>148.0</td>\n",
       "      <td>Action,Adventure,Sci-Fi,Thriller</td>\n",
       "    </tr>\n",
       "    <tr>\n",
       "      <th>1</th>\n",
       "      <td>2</td>\n",
       "      <td>136.0</td>\n",
       "      <td>Action,Sci-Fi</td>\n",
       "    </tr>\n",
       "    <tr>\n",
       "      <th>2</th>\n",
       "      <td>3</td>\n",
       "      <td>149.0</td>\n",
       "      <td>Action,Adventure,Sci-Fi</td>\n",
       "    </tr>\n",
       "    <tr>\n",
       "      <th>3</th>\n",
       "      <td>4</td>\n",
       "      <td>116.0</td>\n",
       "      <td>Adventure,Comedy,Sci-Fi</td>\n",
       "    </tr>\n",
       "    <tr>\n",
       "      <th>4</th>\n",
       "      <td>5</td>\n",
       "      <td>161.0</td>\n",
       "      <td>Western</td>\n",
       "    </tr>\n",
       "    <tr>\n",
       "      <th>...</th>\n",
       "      <td>...</td>\n",
       "      <td>...</td>\n",
       "      <td>...</td>\n",
       "    </tr>\n",
       "    <tr>\n",
       "      <th>16739</th>\n",
       "      <td>16740</td>\n",
       "      <td>120.0</td>\n",
       "      <td>Comedy,Family,Fantasy,Horror</td>\n",
       "    </tr>\n",
       "    <tr>\n",
       "      <th>16740</th>\n",
       "      <td>16741</td>\n",
       "      <td>90.0</td>\n",
       "      <td>Comedy,Family,Sci-Fi</td>\n",
       "    </tr>\n",
       "    <tr>\n",
       "      <th>16741</th>\n",
       "      <td>16742</td>\n",
       "      <td>NaN</td>\n",
       "      <td>Documentary</td>\n",
       "    </tr>\n",
       "    <tr>\n",
       "      <th>16742</th>\n",
       "      <td>16743</td>\n",
       "      <td>NaN</td>\n",
       "      <td>Documentary</td>\n",
       "    </tr>\n",
       "    <tr>\n",
       "      <th>16743</th>\n",
       "      <td>16744</td>\n",
       "      <td>32.0</td>\n",
       "      <td>Documentary,Short,Family</td>\n",
       "    </tr>\n",
       "  </tbody>\n",
       "</table>\n",
       "<p>16744 rows × 3 columns</p>\n",
       "</div>"
      ],
      "text/plain": [
       "          ID  Runtime                            Genres\n",
       "0          1    148.0  Action,Adventure,Sci-Fi,Thriller\n",
       "1          2    136.0                     Action,Sci-Fi\n",
       "2          3    149.0           Action,Adventure,Sci-Fi\n",
       "3          4    116.0           Adventure,Comedy,Sci-Fi\n",
       "4          5    161.0                           Western\n",
       "...      ...      ...                               ...\n",
       "16739  16740    120.0      Comedy,Family,Fantasy,Horror\n",
       "16740  16741     90.0              Comedy,Family,Sci-Fi\n",
       "16741  16742      NaN                       Documentary\n",
       "16742  16743      NaN                       Documentary\n",
       "16743  16744     32.0          Documentary,Short,Family\n",
       "\n",
       "[16744 rows x 3 columns]"
      ]
     },
     "execution_count": 3,
     "metadata": {},
     "output_type": "execute_result"
    }
   ],
   "source": [
    "# Determine the runtime of each movie.\n",
    "mov_ott_runtime = mov_ott[['ID', 'Runtime', 'Genres']]\n",
    "\n",
    "# View the output.\n",
    "mov_ott_runtime"
   ]
  },
  {
   "cell_type": "code",
   "execution_count": 4,
   "metadata": {},
   "outputs": [
    {
     "data": {
      "text/plain": [
       "0        149.0\n",
       "1        137.0\n",
       "2        150.0\n",
       "3        117.0\n",
       "4        162.0\n",
       "         ...  \n",
       "16739    121.0\n",
       "16740     91.0\n",
       "16741      NaN\n",
       "16742      NaN\n",
       "16743     33.0\n",
       "Name: Runtime, Length: 16744, dtype: float64"
      ]
     },
     "execution_count": 4,
     "metadata": {},
     "output_type": "execute_result"
    }
   ],
   "source": [
    "# Add 60 seconds or 1 minute to runtime.\n",
    "mov_ott_runtime['Runtime'].add(1)"
   ]
  },
  {
   "cell_type": "markdown",
   "metadata": {},
   "source": [
    "# "
   ]
  },
  {
   "cell_type": "markdown",
   "metadata": {},
   "source": [
    "## Question 2: Which movies are documentaries?"
   ]
  },
  {
   "cell_type": "code",
   "execution_count": 5,
   "metadata": {},
   "outputs": [
    {
     "name": "stderr",
     "output_type": "stream",
     "text": [
      "C:\\Users\\ASARUB\\AppData\\Local\\Temp\\ipykernel_25580\\625352637.py:2: SettingWithCopyWarning: \n",
      "A value is trying to be set on a copy of a slice from a DataFrame.\n",
      "Try using .loc[row_indexer,col_indexer] = value instead\n",
      "\n",
      "See the caveats in the documentation: https://pandas.pydata.org/pandas-docs/stable/user_guide/indexing.html#returning-a-view-versus-a-copy\n",
      "  mov_ott_runtime['Gen_doc'] = np.where(mov_ott_runtime['Genres'].str.contains('Documentary'),\n"
     ]
    },
    {
     "data": {
      "text/html": [
       "<div>\n",
       "<style scoped>\n",
       "    .dataframe tbody tr th:only-of-type {\n",
       "        vertical-align: middle;\n",
       "    }\n",
       "\n",
       "    .dataframe tbody tr th {\n",
       "        vertical-align: top;\n",
       "    }\n",
       "\n",
       "    .dataframe thead th {\n",
       "        text-align: right;\n",
       "    }\n",
       "</style>\n",
       "<table border=\"1\" class=\"dataframe\">\n",
       "  <thead>\n",
       "    <tr style=\"text-align: right;\">\n",
       "      <th></th>\n",
       "      <th>ID</th>\n",
       "      <th>Runtime</th>\n",
       "      <th>Genres</th>\n",
       "      <th>Gen_doc</th>\n",
       "    </tr>\n",
       "  </thead>\n",
       "  <tbody>\n",
       "    <tr>\n",
       "      <th>0</th>\n",
       "      <td>1</td>\n",
       "      <td>148.0</td>\n",
       "      <td>Action,Adventure,Sci-Fi,Thriller</td>\n",
       "      <td>Not Documentary</td>\n",
       "    </tr>\n",
       "    <tr>\n",
       "      <th>1</th>\n",
       "      <td>2</td>\n",
       "      <td>136.0</td>\n",
       "      <td>Action,Sci-Fi</td>\n",
       "      <td>Not Documentary</td>\n",
       "    </tr>\n",
       "    <tr>\n",
       "      <th>2</th>\n",
       "      <td>3</td>\n",
       "      <td>149.0</td>\n",
       "      <td>Action,Adventure,Sci-Fi</td>\n",
       "      <td>Not Documentary</td>\n",
       "    </tr>\n",
       "    <tr>\n",
       "      <th>3</th>\n",
       "      <td>4</td>\n",
       "      <td>116.0</td>\n",
       "      <td>Adventure,Comedy,Sci-Fi</td>\n",
       "      <td>Not Documentary</td>\n",
       "    </tr>\n",
       "    <tr>\n",
       "      <th>4</th>\n",
       "      <td>5</td>\n",
       "      <td>161.0</td>\n",
       "      <td>Western</td>\n",
       "      <td>Not Documentary</td>\n",
       "    </tr>\n",
       "    <tr>\n",
       "      <th>...</th>\n",
       "      <td>...</td>\n",
       "      <td>...</td>\n",
       "      <td>...</td>\n",
       "      <td>...</td>\n",
       "    </tr>\n",
       "    <tr>\n",
       "      <th>16739</th>\n",
       "      <td>16740</td>\n",
       "      <td>120.0</td>\n",
       "      <td>Comedy,Family,Fantasy,Horror</td>\n",
       "      <td>Not Documentary</td>\n",
       "    </tr>\n",
       "    <tr>\n",
       "      <th>16740</th>\n",
       "      <td>16741</td>\n",
       "      <td>90.0</td>\n",
       "      <td>Comedy,Family,Sci-Fi</td>\n",
       "      <td>Not Documentary</td>\n",
       "    </tr>\n",
       "    <tr>\n",
       "      <th>16741</th>\n",
       "      <td>16742</td>\n",
       "      <td>NaN</td>\n",
       "      <td>Documentary</td>\n",
       "      <td>Documentary</td>\n",
       "    </tr>\n",
       "    <tr>\n",
       "      <th>16742</th>\n",
       "      <td>16743</td>\n",
       "      <td>NaN</td>\n",
       "      <td>Documentary</td>\n",
       "      <td>Documentary</td>\n",
       "    </tr>\n",
       "    <tr>\n",
       "      <th>16743</th>\n",
       "      <td>16744</td>\n",
       "      <td>32.0</td>\n",
       "      <td>Documentary,Short,Family</td>\n",
       "      <td>Documentary</td>\n",
       "    </tr>\n",
       "  </tbody>\n",
       "</table>\n",
       "<p>16744 rows × 4 columns</p>\n",
       "</div>"
      ],
      "text/plain": [
       "          ID  Runtime                            Genres          Gen_doc\n",
       "0          1    148.0  Action,Adventure,Sci-Fi,Thriller  Not Documentary\n",
       "1          2    136.0                     Action,Sci-Fi  Not Documentary\n",
       "2          3    149.0           Action,Adventure,Sci-Fi  Not Documentary\n",
       "3          4    116.0           Adventure,Comedy,Sci-Fi  Not Documentary\n",
       "4          5    161.0                           Western  Not Documentary\n",
       "...      ...      ...                               ...              ...\n",
       "16739  16740    120.0      Comedy,Family,Fantasy,Horror  Not Documentary\n",
       "16740  16741     90.0              Comedy,Family,Sci-Fi  Not Documentary\n",
       "16741  16742      NaN                       Documentary      Documentary\n",
       "16742  16743      NaN                       Documentary      Documentary\n",
       "16743  16744     32.0          Documentary,Short,Family      Documentary\n",
       "\n",
       "[16744 rows x 4 columns]"
      ]
     },
     "execution_count": 5,
     "metadata": {},
     "output_type": "execute_result"
    }
   ],
   "source": [
    "# Create a new column with documentaries.\n",
    "mov_ott_runtime['Gen_doc'] = np.where(mov_ott_runtime['Genres'].str.contains('Documentary'),\n",
    "                                      'Documentary', 'Not Documentary')\n",
    "\n",
    "# View the DataFrame.\n",
    "mov_ott_runtime"
   ]
  },
  {
   "cell_type": "code",
   "execution_count": 6,
   "metadata": {},
   "outputs": [
    {
     "data": {
      "text/plain": [
       "0        15\n",
       "1        15\n",
       "2        15\n",
       "3        15\n",
       "4        15\n",
       "         ..\n",
       "16739    15\n",
       "16740    15\n",
       "16741    11\n",
       "16742    11\n",
       "16743    11\n",
       "Name: Gen_doc, Length: 16744, dtype: int64"
      ]
     },
     "execution_count": 6,
     "metadata": {},
     "output_type": "execute_result"
    }
   ],
   "source": [
    "# Use the applymap (determine length of string).\n",
    "mov_ott_runtime.Gen_doc.apply(len)"
   ]
  },
  {
   "cell_type": "markdown",
   "metadata": {},
   "source": [
    "# "
   ]
  },
  {
   "cell_type": "markdown",
   "metadata": {},
   "source": [
    "## Challenge"
   ]
  },
  {
   "cell_type": "code",
   "execution_count": 7,
   "metadata": {},
   "outputs": [
    {
     "data": {
      "text/html": [
       "<div>\n",
       "<style scoped>\n",
       "    .dataframe tbody tr th:only-of-type {\n",
       "        vertical-align: middle;\n",
       "    }\n",
       "\n",
       "    .dataframe tbody tr th {\n",
       "        vertical-align: top;\n",
       "    }\n",
       "\n",
       "    .dataframe thead th {\n",
       "        text-align: right;\n",
       "    }\n",
       "</style>\n",
       "<table border=\"1\" class=\"dataframe\">\n",
       "  <thead>\n",
       "    <tr style=\"text-align: right;\">\n",
       "      <th></th>\n",
       "      <th>ID</th>\n",
       "      <th>Runtime</th>\n",
       "    </tr>\n",
       "  </thead>\n",
       "  <tbody>\n",
       "    <tr>\n",
       "      <th>0</th>\n",
       "      <td>1</td>\n",
       "      <td>148.0</td>\n",
       "    </tr>\n",
       "    <tr>\n",
       "      <th>1</th>\n",
       "      <td>2</td>\n",
       "      <td>136.0</td>\n",
       "    </tr>\n",
       "    <tr>\n",
       "      <th>2</th>\n",
       "      <td>3</td>\n",
       "      <td>149.0</td>\n",
       "    </tr>\n",
       "    <tr>\n",
       "      <th>3</th>\n",
       "      <td>4</td>\n",
       "      <td>116.0</td>\n",
       "    </tr>\n",
       "    <tr>\n",
       "      <th>4</th>\n",
       "      <td>5</td>\n",
       "      <td>161.0</td>\n",
       "    </tr>\n",
       "    <tr>\n",
       "      <th>...</th>\n",
       "      <td>...</td>\n",
       "      <td>...</td>\n",
       "    </tr>\n",
       "    <tr>\n",
       "      <th>16739</th>\n",
       "      <td>16740</td>\n",
       "      <td>120.0</td>\n",
       "    </tr>\n",
       "    <tr>\n",
       "      <th>16740</th>\n",
       "      <td>16741</td>\n",
       "      <td>90.0</td>\n",
       "    </tr>\n",
       "    <tr>\n",
       "      <th>16741</th>\n",
       "      <td>16742</td>\n",
       "      <td>NaN</td>\n",
       "    </tr>\n",
       "    <tr>\n",
       "      <th>16742</th>\n",
       "      <td>16743</td>\n",
       "      <td>NaN</td>\n",
       "    </tr>\n",
       "    <tr>\n",
       "      <th>16743</th>\n",
       "      <td>16744</td>\n",
       "      <td>32.0</td>\n",
       "    </tr>\n",
       "  </tbody>\n",
       "</table>\n",
       "<p>16744 rows × 2 columns</p>\n",
       "</div>"
      ],
      "text/plain": [
       "          ID  Runtime\n",
       "0          1    148.0\n",
       "1          2    136.0\n",
       "2          3    149.0\n",
       "3          4    116.0\n",
       "4          5    161.0\n",
       "...      ...      ...\n",
       "16739  16740    120.0\n",
       "16740  16741     90.0\n",
       "16741  16742      NaN\n",
       "16742  16743      NaN\n",
       "16743  16744     32.0\n",
       "\n",
       "[16744 rows x 2 columns]"
      ]
     },
     "execution_count": 7,
     "metadata": {},
     "output_type": "execute_result"
    }
   ],
   "source": [
    "# Determine original runtime.\n",
    "mov_ott_runtime[['ID', 'Runtime']]"
   ]
  },
  {
   "cell_type": "code",
   "execution_count": 8,
   "metadata": {},
   "outputs": [
    {
     "data": {
      "text/plain": [
       "0        147.99\n",
       "1        135.99\n",
       "2        148.99\n",
       "3        115.99\n",
       "4        160.99\n",
       "          ...  \n",
       "16739    119.99\n",
       "16740     89.99\n",
       "16741       NaN\n",
       "16742       NaN\n",
       "16743     31.99\n",
       "Name: Runtime, Length: 16744, dtype: float64"
      ]
     },
     "execution_count": 8,
     "metadata": {},
     "output_type": "execute_result"
    }
   ],
   "source": [
    "# Subtract 0.01 from runtime.\n",
    "mov_ott_runtime['Runtime'].subtract(0.01)"
   ]
  },
  {
   "cell_type": "markdown",
   "metadata": {},
   "source": [
    "### Using lambda functions"
   ]
  },
  {
   "cell_type": "code",
   "execution_count": 9,
   "metadata": {
    "scrolled": true
   },
   "outputs": [
    {
     "data": {
      "text/plain": [
       "0        149.0\n",
       "1        137.0\n",
       "2        150.0\n",
       "3        117.0\n",
       "4        162.0\n",
       "         ...  \n",
       "16739    121.0\n",
       "16740     91.0\n",
       "16741      NaN\n",
       "16742      NaN\n",
       "16743     33.0\n",
       "Name: Runtime, Length: 16744, dtype: float64"
      ]
     },
     "execution_count": 9,
     "metadata": {},
     "output_type": "execute_result"
    }
   ],
   "source": [
    "# Add 60 seconds or one minute with lambda function.\n",
    "mov_ott['Runtime'] = mov_ott['Runtime'].apply(lambda x: x + 1)\n",
    "\n",
    "# View output\n",
    "mov_ott['Runtime']"
   ]
  },
  {
   "cell_type": "code",
   "execution_count": 10,
   "metadata": {},
   "outputs": [
    {
     "data": {
      "text/html": [
       "<div>\n",
       "<style scoped>\n",
       "    .dataframe tbody tr th:only-of-type {\n",
       "        vertical-align: middle;\n",
       "    }\n",
       "\n",
       "    .dataframe tbody tr th {\n",
       "        vertical-align: top;\n",
       "    }\n",
       "\n",
       "    .dataframe thead th {\n",
       "        text-align: right;\n",
       "    }\n",
       "</style>\n",
       "<table border=\"1\" class=\"dataframe\">\n",
       "  <thead>\n",
       "    <tr style=\"text-align: right;\">\n",
       "      <th></th>\n",
       "      <th>ID</th>\n",
       "      <th>IMDb</th>\n",
       "      <th>Rotten Tomatoes</th>\n",
       "    </tr>\n",
       "  </thead>\n",
       "  <tbody>\n",
       "    <tr>\n",
       "      <th>0</th>\n",
       "      <td>1</td>\n",
       "      <td>8.8</td>\n",
       "      <td>0.87</td>\n",
       "    </tr>\n",
       "    <tr>\n",
       "      <th>1</th>\n",
       "      <td>2</td>\n",
       "      <td>8.7</td>\n",
       "      <td>0.87</td>\n",
       "    </tr>\n",
       "    <tr>\n",
       "      <th>2</th>\n",
       "      <td>3</td>\n",
       "      <td>8.5</td>\n",
       "      <td>0.84</td>\n",
       "    </tr>\n",
       "    <tr>\n",
       "      <th>3</th>\n",
       "      <td>4</td>\n",
       "      <td>8.5</td>\n",
       "      <td>0.96</td>\n",
       "    </tr>\n",
       "    <tr>\n",
       "      <th>4</th>\n",
       "      <td>5</td>\n",
       "      <td>8.8</td>\n",
       "      <td>0.97</td>\n",
       "    </tr>\n",
       "    <tr>\n",
       "      <th>...</th>\n",
       "      <td>...</td>\n",
       "      <td>...</td>\n",
       "      <td>...</td>\n",
       "    </tr>\n",
       "    <tr>\n",
       "      <th>16739</th>\n",
       "      <td>16740</td>\n",
       "      <td>6.2</td>\n",
       "      <td>0.00</td>\n",
       "    </tr>\n",
       "    <tr>\n",
       "      <th>16740</th>\n",
       "      <td>16741</td>\n",
       "      <td>4.7</td>\n",
       "      <td>0.00</td>\n",
       "    </tr>\n",
       "    <tr>\n",
       "      <th>16741</th>\n",
       "      <td>16742</td>\n",
       "      <td>5.7</td>\n",
       "      <td>0.00</td>\n",
       "    </tr>\n",
       "    <tr>\n",
       "      <th>16742</th>\n",
       "      <td>16743</td>\n",
       "      <td>6.6</td>\n",
       "      <td>0.00</td>\n",
       "    </tr>\n",
       "    <tr>\n",
       "      <th>16743</th>\n",
       "      <td>16744</td>\n",
       "      <td>0.0</td>\n",
       "      <td>0.00</td>\n",
       "    </tr>\n",
       "  </tbody>\n",
       "</table>\n",
       "<p>16744 rows × 3 columns</p>\n",
       "</div>"
      ],
      "text/plain": [
       "          ID  IMDb  Rotten Tomatoes\n",
       "0          1   8.8             0.87\n",
       "1          2   8.7             0.87\n",
       "2          3   8.5             0.84\n",
       "3          4   8.5             0.96\n",
       "4          5   8.8             0.97\n",
       "...      ...   ...              ...\n",
       "16739  16740   6.2             0.00\n",
       "16740  16741   4.7             0.00\n",
       "16741  16742   5.7             0.00\n",
       "16742  16743   6.6             0.00\n",
       "16743  16744   0.0             0.00\n",
       "\n",
       "[16744 rows x 3 columns]"
      ]
     },
     "execution_count": 10,
     "metadata": {},
     "output_type": "execute_result"
    }
   ],
   "source": [
    "# View IMDb and Rotten Tomatoes columns.\n",
    "mov_ott_ratings = mov_ott[['ID', 'IMDb', 'Rotten Tomatoes']]\n",
    "\n",
    "# View the DataFrame.\n",
    "mov_ott_ratings\n",
    "\n",
    "# Replace missing values with 0.\n",
    "mov_ott_ratings_final = mov_ott_ratings.fillna(0)\n",
    "\n",
    "# View the DataFrame.\n",
    "mov_ott_ratings_final"
   ]
  },
  {
   "cell_type": "code",
   "execution_count": 11,
   "metadata": {},
   "outputs": [
    {
     "data": {
      "text/html": [
       "<div>\n",
       "<style scoped>\n",
       "    .dataframe tbody tr th:only-of-type {\n",
       "        vertical-align: middle;\n",
       "    }\n",
       "\n",
       "    .dataframe tbody tr th {\n",
       "        vertical-align: top;\n",
       "    }\n",
       "\n",
       "    .dataframe thead th {\n",
       "        text-align: right;\n",
       "    }\n",
       "</style>\n",
       "<table border=\"1\" class=\"dataframe\">\n",
       "  <thead>\n",
       "    <tr style=\"text-align: right;\">\n",
       "      <th></th>\n",
       "      <th>ID</th>\n",
       "      <th>IMDb</th>\n",
       "      <th>Rotten Tomatoes</th>\n",
       "      <th>Rating</th>\n",
       "    </tr>\n",
       "  </thead>\n",
       "  <tbody>\n",
       "    <tr>\n",
       "      <th>0</th>\n",
       "      <td>1</td>\n",
       "      <td>8.8</td>\n",
       "      <td>0.87</td>\n",
       "      <td>0.875</td>\n",
       "    </tr>\n",
       "    <tr>\n",
       "      <th>1</th>\n",
       "      <td>2</td>\n",
       "      <td>8.7</td>\n",
       "      <td>0.87</td>\n",
       "      <td>0.870</td>\n",
       "    </tr>\n",
       "    <tr>\n",
       "      <th>2</th>\n",
       "      <td>3</td>\n",
       "      <td>8.5</td>\n",
       "      <td>0.84</td>\n",
       "      <td>0.845</td>\n",
       "    </tr>\n",
       "    <tr>\n",
       "      <th>3</th>\n",
       "      <td>4</td>\n",
       "      <td>8.5</td>\n",
       "      <td>0.96</td>\n",
       "      <td>0.905</td>\n",
       "    </tr>\n",
       "    <tr>\n",
       "      <th>4</th>\n",
       "      <td>5</td>\n",
       "      <td>8.8</td>\n",
       "      <td>0.97</td>\n",
       "      <td>0.925</td>\n",
       "    </tr>\n",
       "    <tr>\n",
       "      <th>...</th>\n",
       "      <td>...</td>\n",
       "      <td>...</td>\n",
       "      <td>...</td>\n",
       "      <td>...</td>\n",
       "    </tr>\n",
       "    <tr>\n",
       "      <th>16739</th>\n",
       "      <td>16740</td>\n",
       "      <td>6.2</td>\n",
       "      <td>0.00</td>\n",
       "      <td>0.310</td>\n",
       "    </tr>\n",
       "    <tr>\n",
       "      <th>16740</th>\n",
       "      <td>16741</td>\n",
       "      <td>4.7</td>\n",
       "      <td>0.00</td>\n",
       "      <td>0.235</td>\n",
       "    </tr>\n",
       "    <tr>\n",
       "      <th>16741</th>\n",
       "      <td>16742</td>\n",
       "      <td>5.7</td>\n",
       "      <td>0.00</td>\n",
       "      <td>0.285</td>\n",
       "    </tr>\n",
       "    <tr>\n",
       "      <th>16742</th>\n",
       "      <td>16743</td>\n",
       "      <td>6.6</td>\n",
       "      <td>0.00</td>\n",
       "      <td>0.330</td>\n",
       "    </tr>\n",
       "    <tr>\n",
       "      <th>16743</th>\n",
       "      <td>16744</td>\n",
       "      <td>0.0</td>\n",
       "      <td>0.00</td>\n",
       "      <td>0.000</td>\n",
       "    </tr>\n",
       "  </tbody>\n",
       "</table>\n",
       "<p>16744 rows × 4 columns</p>\n",
       "</div>"
      ],
      "text/plain": [
       "          ID  IMDb  Rotten Tomatoes  Rating\n",
       "0          1   8.8             0.87   0.875\n",
       "1          2   8.7             0.87   0.870\n",
       "2          3   8.5             0.84   0.845\n",
       "3          4   8.5             0.96   0.905\n",
       "4          5   8.8             0.97   0.925\n",
       "...      ...   ...              ...     ...\n",
       "16739  16740   6.2             0.00   0.310\n",
       "16740  16741   4.7             0.00   0.235\n",
       "16741  16742   5.7             0.00   0.285\n",
       "16742  16743   6.6             0.00   0.330\n",
       "16743  16744   0.0             0.00   0.000\n",
       "\n",
       "[16744 rows x 4 columns]"
      ]
     },
     "execution_count": 11,
     "metadata": {},
     "output_type": "execute_result"
    }
   ],
   "source": [
    "# Add a new column to the DataFrame indicating average rating.\n",
    "# Average rating is ((IMDb/10) + Rotten Tomaties)/n.\n",
    "# Write a user defined function.\n",
    "def av_col2(df1,df2):\n",
    "    df = (df1/10 + df2)/2\n",
    "    return df\n",
    "\n",
    "mov_ott_ratings_final['Rating'] = av_col2(mov_ott_ratings_final['IMDb'],\n",
    "                                          mov_ott_ratings_final['Rotten Tomatoes'])\n",
    "\n",
    "# View the DataFrame.\n",
    "mov_ott_ratings_final "
   ]
  },
  {
   "cell_type": "code",
   "execution_count": 12,
   "metadata": {},
   "outputs": [
    {
     "name": "stdout",
     "output_type": "stream",
     "text": [
      "18+    3474\n",
      "7+     1462\n",
      "13+    1255\n",
      "all     843\n",
      "16+     320\n",
      "Name: Age, dtype: int64\n"
     ]
    }
   ],
   "source": [
    "# Categorical count. \n",
    "def cat_cnt(df1):\n",
    "    print(df1.value_counts())\n",
    "\n",
    "# Number of movies released per 'Age'.\n",
    "df = mov_ott['Age'].astype('category')\n",
    "\n",
    "# View the output.\n",
    "cat_cnt(df)"
   ]
  },
  {
   "cell_type": "code",
   "execution_count": 13,
   "metadata": {},
   "outputs": [
    {
     "name": "stdout",
     "output_type": "stream",
     "text": [
      "2017    1401\n",
      "2018    1285\n",
      "2016    1206\n",
      "2015    1065\n",
      "2014     986\n",
      "        ... \n",
      "1916       1\n",
      "1912       1\n",
      "1917       1\n",
      "1924       1\n",
      "1902       1\n",
      "Name: Year, Length: 109, dtype: int64\n"
     ]
    }
   ],
   "source": [
    "# Categorical count. \n",
    "def cat_cnt(df1):\n",
    "    print(df1.value_counts())\n",
    "\n",
    "# Number of movies released per 'Year'.\n",
    "df = mov_ott['Year'].astype('category')\n",
    "\n",
    "# View the output.\n",
    "cat_cnt(df)"
   ]
  },
  {
   "cell_type": "code",
   "execution_count": null,
   "metadata": {},
   "outputs": [],
   "source": []
  },
  {
   "cell_type": "code",
   "execution_count": null,
   "metadata": {},
   "outputs": [],
   "source": []
  },
  {
   "cell_type": "code",
   "execution_count": null,
   "metadata": {},
   "outputs": [],
   "source": []
  }
 ],
 "metadata": {
  "kernelspec": {
   "display_name": "Python 3 (ipykernel)",
   "language": "python",
   "name": "python3"
  },
  "language_info": {
   "codemirror_mode": {
    "name": "ipython",
    "version": 3
   },
   "file_extension": ".py",
   "mimetype": "text/x-python",
   "name": "python",
   "nbconvert_exporter": "python",
   "pygments_lexer": "ipython3",
   "version": "3.9.13"
  }
 },
 "nbformat": 4,
 "nbformat_minor": 4
}
