{
 "cells": [
  {
   "cell_type": "markdown",
   "id": "94199fa3",
   "metadata": {},
   "source": [
    "### LSE Data Analytics Online Career Accelerator \n",
    "# Course 301: Advanced Analytics for Organisational Impact"
   ]
  },
  {
   "cell_type": "markdown",
   "id": "46fcc342",
   "metadata": {},
   "source": [
    "## Practical activity: Fitting a data set using the OLS method"
   ]
  },
  {
   "cell_type": "markdown",
   "id": "26969258",
   "metadata": {},
   "source": [
    "**Scenario**\n",
    "\n",
    "In all regression models, the aim is to minimise residuals by finding the line of best fit. OLS is a common and straightforward way to estimate a linear regression model and to fit a linear equation to observed data. You’ll now have a chance to fit a data set using OLS in Python. \n",
    "\n",
    "An e-commerce store has asked you to analyse its online shopping experience. To help its marketing team optimise its campaign efforts to pre-existing users, the company wants to know how much money customers spend relative to how long they've been a member.\n",
    "\n",
    "Remember, the marketing team needs to find a way to predict as accurately as possible how much money customers will spend, based on how long they have been a member of the shopping platform. Using the data set provided, you’ll need to decide on the independent and dependent variables and minimise residuals by finding the line of best fit. "
   ]
  },
  {
   "cell_type": "markdown",
   "id": "e0ec3ed0",
   "metadata": {},
   "source": [
    "## 1. Prepare your workstation"
   ]
  },
  {
   "cell_type": "code",
   "execution_count": 1,
   "id": "19b7bc2c",
   "metadata": {},
   "outputs": [],
   "source": [
    "# Import the necessary libraries.\n",
    "import numpy as np\n",
    "import pandas as pd\n",
    "import matplotlib.pyplot as plt\n",
    "import statsmodels.api as sm \n",
    "from statsmodels.formula.api import ols"
   ]
  },
  {
   "cell_type": "markdown",
   "id": "8a657692",
   "metadata": {},
   "source": [
    "## 2. Import the data set"
   ]
  },
  {
   "cell_type": "code",
   "execution_count": 3,
   "id": "78df595c",
   "metadata": {},
   "outputs": [
    {
     "data": {
      "text/html": [
       "<div>\n",
       "<style scoped>\n",
       "    .dataframe tbody tr th:only-of-type {\n",
       "        vertical-align: middle;\n",
       "    }\n",
       "\n",
       "    .dataframe tbody tr th {\n",
       "        vertical-align: top;\n",
       "    }\n",
       "\n",
       "    .dataframe thead th {\n",
       "        text-align: right;\n",
       "    }\n",
       "</style>\n",
       "<table border=\"1\" class=\"dataframe\">\n",
       "  <thead>\n",
       "    <tr style=\"text-align: right;\">\n",
       "      <th></th>\n",
       "      <th>Email</th>\n",
       "      <th>Address</th>\n",
       "      <th>Avatar</th>\n",
       "      <th>Avg. Session Length</th>\n",
       "      <th>Time on App</th>\n",
       "      <th>Time on Website</th>\n",
       "      <th>Length of Membership</th>\n",
       "      <th>Yearly Amount Spent</th>\n",
       "    </tr>\n",
       "  </thead>\n",
       "  <tbody>\n",
       "    <tr>\n",
       "      <th>0</th>\n",
       "      <td>mstephenson@fernandez.com</td>\n",
       "      <td>835 Frank Tunnel\\nWrightmouth, MI 82180-9605</td>\n",
       "      <td>Violet</td>\n",
       "      <td>34.497268</td>\n",
       "      <td>12.655651</td>\n",
       "      <td>39.577668</td>\n",
       "      <td>4.082621</td>\n",
       "      <td>587.951054</td>\n",
       "    </tr>\n",
       "    <tr>\n",
       "      <th>1</th>\n",
       "      <td>hduke@hotmail.com</td>\n",
       "      <td>4547 Archer Common\\nDiazchester, CA 06566-8576</td>\n",
       "      <td>DarkGreen</td>\n",
       "      <td>31.926272</td>\n",
       "      <td>11.109461</td>\n",
       "      <td>37.268959</td>\n",
       "      <td>2.664034</td>\n",
       "      <td>392.204933</td>\n",
       "    </tr>\n",
       "    <tr>\n",
       "      <th>2</th>\n",
       "      <td>pallen@yahoo.com</td>\n",
       "      <td>24645 Valerie Unions Suite 582\\nCobbborough, D...</td>\n",
       "      <td>Bisque</td>\n",
       "      <td>33.000915</td>\n",
       "      <td>11.330278</td>\n",
       "      <td>37.110597</td>\n",
       "      <td>4.104543</td>\n",
       "      <td>487.547505</td>\n",
       "    </tr>\n",
       "    <tr>\n",
       "      <th>3</th>\n",
       "      <td>riverarebecca@gmail.com</td>\n",
       "      <td>1414 David Throughway\\nPort Jason, OH 22070-1220</td>\n",
       "      <td>SaddleBrown</td>\n",
       "      <td>34.305557</td>\n",
       "      <td>13.717514</td>\n",
       "      <td>36.721283</td>\n",
       "      <td>3.120179</td>\n",
       "      <td>581.852344</td>\n",
       "    </tr>\n",
       "    <tr>\n",
       "      <th>4</th>\n",
       "      <td>mstephens@davidson-herman.com</td>\n",
       "      <td>14023 Rodriguez Passage\\nPort Jacobville, PR 3...</td>\n",
       "      <td>MediumAquaMarine</td>\n",
       "      <td>33.330673</td>\n",
       "      <td>12.795189</td>\n",
       "      <td>37.536653</td>\n",
       "      <td>4.446308</td>\n",
       "      <td>599.406092</td>\n",
       "    </tr>\n",
       "  </tbody>\n",
       "</table>\n",
       "</div>"
      ],
      "text/plain": [
       "                           Email  \\\n",
       "0      mstephenson@fernandez.com   \n",
       "1              hduke@hotmail.com   \n",
       "2               pallen@yahoo.com   \n",
       "3        riverarebecca@gmail.com   \n",
       "4  mstephens@davidson-herman.com   \n",
       "\n",
       "                                             Address            Avatar  \\\n",
       "0       835 Frank Tunnel\\nWrightmouth, MI 82180-9605            Violet   \n",
       "1     4547 Archer Common\\nDiazchester, CA 06566-8576         DarkGreen   \n",
       "2  24645 Valerie Unions Suite 582\\nCobbborough, D...            Bisque   \n",
       "3   1414 David Throughway\\nPort Jason, OH 22070-1220       SaddleBrown   \n",
       "4  14023 Rodriguez Passage\\nPort Jacobville, PR 3...  MediumAquaMarine   \n",
       "\n",
       "   Avg. Session Length  Time on App  Time on Website  Length of Membership  \\\n",
       "0            34.497268    12.655651        39.577668              4.082621   \n",
       "1            31.926272    11.109461        37.268959              2.664034   \n",
       "2            33.000915    11.330278        37.110597              4.104543   \n",
       "3            34.305557    13.717514        36.721283              3.120179   \n",
       "4            33.330673    12.795189        37.536653              4.446308   \n",
       "\n",
       "   Yearly Amount Spent  \n",
       "0           587.951054  \n",
       "1           392.204933  \n",
       "2           487.547505  \n",
       "3           581.852344  \n",
       "4           599.406092  "
      ]
     },
     "execution_count": 3,
     "metadata": {},
     "output_type": "execute_result"
    }
   ],
   "source": [
    "# Import the data set.\n",
    "df_test = pd.read_csv('loyalty_club.csv')\n",
    "\n",
    "# View the DataFrame.\n",
    "df_test.head()"
   ]
  },
  {
   "cell_type": "markdown",
   "id": "a2b6ccab",
   "metadata": {},
   "source": [
    "## 3. Define the variables"
   ]
  },
  {
   "cell_type": "code",
   "execution_count": 4,
   "id": "d95605e9",
   "metadata": {},
   "outputs": [
    {
     "data": {
      "text/plain": [
       "<matplotlib.collections.PathCollection at 0x2b1a02003d0>"
      ]
     },
     "execution_count": 4,
     "metadata": {},
     "output_type": "execute_result"
    },
    {
     "data": {
      "image/png": "[encoded data removed]",
      "text/plain": [
       "<Figure size 640x480 with 1 Axes>"
      ]
     },
     "metadata": {},
     "output_type": "display_data"
    }
   ],
   "source": [
    "# Dependent variable.\n",
    "y = df_test[\"Yearly Amount Spent\"] \n",
    "\n",
    "# Independent variable.\n",
    "X = df_test[\"Length of Membership\"]\n",
    "\n",
    "# Check for linearity.\n",
    "plt.scatter(X,y)"
   ]
  },
  {
   "cell_type": "markdown",
   "id": "f90d0c31",
   "metadata": {},
   "source": [
    "## 4. Run an OLS test"
   ]
  },
  {
   "cell_type": "code",
   "execution_count": 5,
   "id": "d42e4559",
   "metadata": {},
   "outputs": [
    {
     "data": {
      "text/html": [
       "<table class=\"simpletable\">\n",
       "<caption>OLS Regression Results</caption>\n",
       "<tr>\n",
       "  <th>Dep. Variable:</th>            <td>y</td>        <th>  R-squared:         </th> <td>   0.655</td> \n",
       "</tr>\n",
       "<tr>\n",
       "  <th>Model:</th>                   <td>OLS</td>       <th>  Adj. R-squared:    </th> <td>   0.654</td> \n",
       "</tr>\n",
       "<tr>\n",
       "  <th>Method:</th>             <td>Least Squares</td>  <th>  F-statistic:       </th> <td>   943.9</td> \n",
       "</tr>\n",
       "<tr>\n",
       "  <th>Date:</th>             <td>Wed, 19 Jul 2023</td> <th>  Prob (F-statistic):</th> <td>4.81e-117</td>\n",
       "</tr>\n",
       "<tr>\n",
       "  <th>Time:</th>                 <td>13:02:24</td>     <th>  Log-Likelihood:    </th> <td> -2629.9</td> \n",
       "</tr>\n",
       "<tr>\n",
       "  <th>No. Observations:</th>      <td>   500</td>      <th>  AIC:               </th> <td>   5264.</td> \n",
       "</tr>\n",
       "<tr>\n",
       "  <th>Df Residuals:</th>          <td>   498</td>      <th>  BIC:               </th> <td>   5272.</td> \n",
       "</tr>\n",
       "<tr>\n",
       "  <th>Df Model:</th>              <td>     1</td>      <th>                     </th>     <td> </td>    \n",
       "</tr>\n",
       "<tr>\n",
       "  <th>Covariance Type:</th>      <td>nonrobust</td>    <th>                     </th>     <td> </td>    \n",
       "</tr>\n",
       "</table>\n",
       "<table class=\"simpletable\">\n",
       "<tr>\n",
       "      <td></td>         <th>coef</th>     <th>std err</th>      <th>t</th>      <th>P>|t|</th>  <th>[0.025</th>    <th>0.975]</th>  \n",
       "</tr>\n",
       "<tr>\n",
       "  <th>Intercept</th> <td>  272.3998</td> <td>    7.675</td> <td>   35.492</td> <td> 0.000</td> <td>  257.320</td> <td>  287.479</td>\n",
       "</tr>\n",
       "<tr>\n",
       "  <th>X</th>         <td>   64.2187</td> <td>    2.090</td> <td>   30.723</td> <td> 0.000</td> <td>   60.112</td> <td>   68.326</td>\n",
       "</tr>\n",
       "</table>\n",
       "<table class=\"simpletable\">\n",
       "<tr>\n",
       "  <th>Omnibus:</th>       <td> 1.092</td> <th>  Durbin-Watson:     </th> <td>   2.065</td>\n",
       "</tr>\n",
       "<tr>\n",
       "  <th>Prob(Omnibus):</th> <td> 0.579</td> <th>  Jarque-Bera (JB):  </th> <td>   1.122</td>\n",
       "</tr>\n",
       "<tr>\n",
       "  <th>Skew:</th>          <td> 0.037</td> <th>  Prob(JB):          </th> <td>   0.571</td>\n",
       "</tr>\n",
       "<tr>\n",
       "  <th>Kurtosis:</th>      <td> 2.780</td> <th>  Cond. No.          </th> <td>    14.4</td>\n",
       "</tr>\n",
       "</table><br/><br/>Notes:<br/>[1] Standard Errors assume that the covariance matrix of the errors is correctly specified."
      ],
      "text/plain": [
       "<class 'statsmodels.iolib.summary.Summary'>\n",
       "\"\"\"\n",
       "                            OLS Regression Results                            \n",
       "==============================================================================\n",
       "Dep. Variable:                      y   R-squared:                       0.655\n",
       "Model:                            OLS   Adj. R-squared:                  0.654\n",
       "Method:                 Least Squares   F-statistic:                     943.9\n",
       "Date:                Wed, 19 Jul 2023   Prob (F-statistic):          4.81e-117\n",
       "Time:                        13:02:24   Log-Likelihood:                -2629.9\n",
       "No. Observations:                 500   AIC:                             5264.\n",
       "Df Residuals:                     498   BIC:                             5272.\n",
       "Df Model:                           1                                         \n",
       "Covariance Type:            nonrobust                                         \n",
       "==============================================================================\n",
       "                 coef    std err          t      P>|t|      [0.025      0.975]\n",
       "------------------------------------------------------------------------------\n",
       "Intercept    272.3998      7.675     35.492      0.000     257.320     287.479\n",
       "X             64.2187      2.090     30.723      0.000      60.112      68.326\n",
       "==============================================================================\n",
       "Omnibus:                        1.092   Durbin-Watson:                   2.065\n",
       "Prob(Omnibus):                  0.579   Jarque-Bera (JB):                1.122\n",
       "Skew:                           0.037   Prob(JB):                        0.571\n",
       "Kurtosis:                       2.780   Cond. No.                         14.4\n",
       "==============================================================================\n",
       "\n",
       "Notes:\n",
       "[1] Standard Errors assume that the covariance matrix of the errors is correctly specified.\n",
       "\"\"\""
      ]
     },
     "execution_count": 5,
     "metadata": {},
     "output_type": "execute_result"
    }
   ],
   "source": [
    "# Run the OLS test.\n",
    "f = 'y ~ X'\n",
    "test = ols(f, data = df_test).fit()\n",
    "\n",
    "# View the output.\n",
    "test.summary()"
   ]
  },
  {
   "cell_type": "markdown",
   "id": "1de927cd",
   "metadata": {},
   "source": [
    "> What does the summary indicates?\n",
    "> - $R^2$: 65% of the total variability of `y` (money spent by customers), is explained by the variability of `X` (how long they have been a member).  \n",
    "> - F-stat: If the probability of F stat. is smaller than a threshold (usually 0.05), the set of variables of the regression model are significant, else, the regression is not good. For simple regression model, the `t`-statistic is equivalent.\n",
    "> - `X`: The coefficient of `X` describes the slope of the regression line, in other words, how much the response variable `y` change when `X` changes by 1 unit. In this activity, if the length that the customer has been a member (`X`) changes by 1 unit (please check units used) the money spent (`y`) will change by 64.2187 units. \n",
    ">  - The `t`-value tests the hypothesis that the slope is significant or not. If the corresponding probability is small (typically smaller than 0.05) the slope is significant. In this case, the probability of the t-value is zero, thus the estimated slope is significant. \n",
    ">   - The last two numbers describe the 95% confidence interval of the true xcoefficient, i.e. the true slope. For instance, if you take a different sample, the estimated slope will be slightly different. If you take 100 random samples each of 500 observations of `X` and `y`, then 95 out of the 100 samples will derive a slope that is within the interval (60.112 , 68.326).\n",
    ">   - In case of a multivariate regression model, each explanatory variable will have a separate row with the above information. So we will need to check which of the variables are significant, remove the ones that are not significant and then re-run the new regression model."
   ]
  },
  {
   "cell_type": "markdown",
   "id": "971e7c36",
   "metadata": {},
   "source": [
    "## 5. Create linear equation"
   ]
  },
  {
   "cell_type": "code",
   "execution_count": 6,
   "id": "99ef8409",
   "metadata": {},
   "outputs": [
    {
     "data": {
      "text/plain": [
       "0      534.580390\n",
       "1      443.480612\n",
       "2      535.988229\n",
       "3      472.773625\n",
       "4      557.935940\n",
       "          ...    \n",
       "495    512.999846\n",
       "496    502.079645\n",
       "497    590.813099\n",
       "498    422.445808\n",
       "499    448.048192\n",
       "Name: Length of Membership, Length: 500, dtype: float64"
      ]
     },
     "execution_count": 6,
     "metadata": {},
     "output_type": "execute_result"
    }
   ],
   "source": [
    "# x coef: 64.2187.\n",
    "# Constant coef: 272.3998.\n",
    "# Create the linear equation.\n",
    "y_pred = 272.3998 + 64.2187 * X\n",
    "\n",
    "# View the output.\n",
    "y_pred"
   ]
  },
  {
   "cell_type": "markdown",
   "id": "31d7d744",
   "metadata": {},
   "source": [
    "## 6. Plot the regression"
   ]
  },
  {
   "cell_type": "code",
   "execution_count": 7,
   "id": "0380b297",
   "metadata": {},
   "outputs": [
    {
     "data": {
      "text/plain": [
       "[<matplotlib.lines.Line2D at 0x2b1a08c0b50>]"
      ]
     },
     "execution_count": 7,
     "metadata": {},
     "output_type": "execute_result"
    },
    {
     "data": {
      "image/png": "[encoded data removed]",
      "text/plain": [
       "<Figure size 640x480 with 1 Axes>"
      ]
     },
     "metadata": {},
     "output_type": "display_data"
    }
   ],
   "source": [
    "# Plot the data points.\n",
    "plt.scatter(X, y)\n",
    "\n",
    "# Plot the line.\n",
    "plt.plot(X, y_pred, color='black')"
   ]
  },
  {
   "cell_type": "code",
   "execution_count": null,
   "id": "838003e8",
   "metadata": {},
   "outputs": [],
   "source": []
  },
  {
   "cell_type": "code",
   "execution_count": null,
   "id": "1997a75d",
   "metadata": {},
   "outputs": [],
   "source": []
  }
 ],
 "metadata": {
  "kernelspec": {
   "display_name": "Python 3 (ipykernel)",
   "language": "python",
   "name": "python3"
  },
  "language_info": {
   "codemirror_mode": {
    "name": "ipython",
    "version": 3
   },
   "file_extension": ".py",
   "mimetype": "text/x-python",
   "name": "python",
   "nbconvert_exporter": "python",
   "pygments_lexer": "ipython3",
   "version": "3.9.13"
  }
 },
 "nbformat": 4,
 "nbformat_minor": 5
}
