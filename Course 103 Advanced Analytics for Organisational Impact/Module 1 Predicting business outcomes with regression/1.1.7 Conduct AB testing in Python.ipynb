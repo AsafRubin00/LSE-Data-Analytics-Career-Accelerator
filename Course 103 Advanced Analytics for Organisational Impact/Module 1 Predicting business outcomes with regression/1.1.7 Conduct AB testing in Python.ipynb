{
 "cells": [
  {
   "cell_type": "markdown",
   "id": "94199fa3",
   "metadata": {},
   "source": [
    "### LSE Data Analytics Online Career Accelerator \n",
    "# Course 301: Advanced Analytics for Organisational Impact"
   ]
  },
  {
   "cell_type": "markdown",
   "id": "46fcc342",
   "metadata": {},
   "source": [
    "## Practical activity: Conduct A/B testing in Python"
   ]
  },
  {
   "cell_type": "markdown",
   "id": "26969258",
   "metadata": {},
   "source": [
    "**Scenario**\n",
    "\n",
    "An online bicycle store has changed its home page interface to encourage visitors to click through to its loyalty programme sign-up page. It is hoping the new interface will encourage more visitors to access the loyalty programme page, see what benefits the programme brings, and hopefully then sign up. The current click-through rate (CTR) sits at around 50% annually, and the company hopes the new design will push this to at least 55%. \n",
    "\n",
    "This analysis uses the `bike_shop.csv` data set. Using your Python and data wrangling skills, you will run an A/B test on the data to measure the significance of the interface change based on CTR to the loyalty programme page. "
   ]
  },
  {
   "cell_type": "markdown",
   "id": "e0ec3ed0",
   "metadata": {},
   "source": [
    "## 1. Prepare your workstation"
   ]
  },
  {
   "cell_type": "code",
   "execution_count": 1,
   "id": "19b7bc2c",
   "metadata": {},
   "outputs": [],
   "source": [
    "# Import the necessary libraries.\n",
    "import statsmodels.stats.api as sms\n",
    "from statsmodels.stats.power import TTestIndPower"
   ]
  },
  {
   "cell_type": "markdown",
   "id": "8a657692",
   "metadata": {},
   "source": [
    "## 2. Perform power analysis"
   ]
  },
  {
   "cell_type": "code",
   "execution_count": 2,
   "id": "78df595c",
   "metadata": {},
   "outputs": [
    {
     "name": "stdout",
     "output_type": "stream",
     "text": [
      "Sample Size: 1565.490\n"
     ]
    }
   ],
   "source": [
    "# Perform the power analysis to determine sample size.\n",
    "effect = sms.proportion_effectsize(0.50, 0.55)   \n",
    " \n",
    "effect,\n",
    "alpha = 0.05\n",
    "power = 0.8\n",
    "\n",
    "analysis = TTestIndPower()\n",
    "result = analysis.solve_power(effect, power=power,\n",
    "                              nobs1=None, ratio=1.0,\n",
    "                              alpha=alpha)\n",
    "\n",
    "print('Sample Size: %.3f' % result)"
   ]
  },
  {
   "cell_type": "markdown",
   "id": "3d7fb98e",
   "metadata": {},
   "source": [
    "## 3. Import data set"
   ]
  },
  {
   "cell_type": "code",
   "execution_count": 3,
   "id": "a792761a",
   "metadata": {},
   "outputs": [],
   "source": [
    "# Import the necessary libraries.\n",
    "import pandas as pd\n",
    "import math\n",
    "import numpy as np\n",
    "import statsmodels.stats.api as sms\n",
    "import scipy.stats as st\n",
    "import matplotlib as mpl\n",
    "import matplotlib.pyplot as plt"
   ]
  },
  {
   "cell_type": "code",
   "execution_count": 5,
   "id": "f13db332",
   "metadata": {},
   "outputs": [
    {
     "name": "stdout",
     "output_type": "stream",
     "text": [
      "(184588, 5)\n"
     ]
    },
    {
     "data": {
      "text/html": [
       "<div>\n",
       "<style scoped>\n",
       "    .dataframe tbody tr th:only-of-type {\n",
       "        vertical-align: middle;\n",
       "    }\n",
       "\n",
       "    .dataframe tbody tr th {\n",
       "        vertical-align: top;\n",
       "    }\n",
       "\n",
       "    .dataframe thead th {\n",
       "        text-align: right;\n",
       "    }\n",
       "</style>\n",
       "<table border=\"1\" class=\"dataframe\">\n",
       "  <thead>\n",
       "    <tr style=\"text-align: right;\">\n",
       "      <th></th>\n",
       "      <th>RecordID</th>\n",
       "      <th>IP Address</th>\n",
       "      <th>LoggedInFlag</th>\n",
       "      <th>ServerID</th>\n",
       "      <th>VisitPageFlag</th>\n",
       "    </tr>\n",
       "  </thead>\n",
       "  <tbody>\n",
       "    <tr>\n",
       "      <th>0</th>\n",
       "      <td>1</td>\n",
       "      <td>39.13.114.2</td>\n",
       "      <td>1</td>\n",
       "      <td>2</td>\n",
       "      <td>0</td>\n",
       "    </tr>\n",
       "    <tr>\n",
       "      <th>1</th>\n",
       "      <td>2</td>\n",
       "      <td>13.3.25.8</td>\n",
       "      <td>1</td>\n",
       "      <td>1</td>\n",
       "      <td>0</td>\n",
       "    </tr>\n",
       "    <tr>\n",
       "      <th>2</th>\n",
       "      <td>3</td>\n",
       "      <td>247.8.211.8</td>\n",
       "      <td>1</td>\n",
       "      <td>1</td>\n",
       "      <td>0</td>\n",
       "    </tr>\n",
       "    <tr>\n",
       "      <th>3</th>\n",
       "      <td>4</td>\n",
       "      <td>124.8.220.3</td>\n",
       "      <td>0</td>\n",
       "      <td>3</td>\n",
       "      <td>0</td>\n",
       "    </tr>\n",
       "    <tr>\n",
       "      <th>4</th>\n",
       "      <td>5</td>\n",
       "      <td>60.10.192.7</td>\n",
       "      <td>0</td>\n",
       "      <td>2</td>\n",
       "      <td>0</td>\n",
       "    </tr>\n",
       "  </tbody>\n",
       "</table>\n",
       "</div>"
      ],
      "text/plain": [
       "   RecordID   IP Address  LoggedInFlag  ServerID  VisitPageFlag\n",
       "0         1  39.13.114.2             1         2              0\n",
       "1         2    13.3.25.8             1         1              0\n",
       "2         3  247.8.211.8             1         1              0\n",
       "3         4  124.8.220.3             0         3              0\n",
       "4         5  60.10.192.7             0         2              0"
      ]
     },
     "execution_count": 5,
     "metadata": {},
     "output_type": "execute_result"
    }
   ],
   "source": [
    "# Read the data set with Pandas.\n",
    "df = pd.read_csv('bike_shop_28.02.csv')\n",
    "\n",
    "# Print the DataFrame.\n",
    "print(df.shape)\n",
    "df.head()"
   ]
  },
  {
   "cell_type": "code",
   "execution_count": 6,
   "id": "9e5bf6cb",
   "metadata": {},
   "outputs": [
    {
     "name": "stdout",
     "output_type": "stream",
     "text": [
      "<class 'pandas.core.frame.DataFrame'>\n",
      "RangeIndex: 184588 entries, 0 to 184587\n",
      "Data columns (total 5 columns):\n",
      " #   Column         Non-Null Count   Dtype \n",
      "---  ------         --------------   ----- \n",
      " 0   RecordID       184588 non-null  int64 \n",
      " 1   IP Address     184588 non-null  object\n",
      " 2   LoggedInFlag   184588 non-null  int64 \n",
      " 3   ServerID       184588 non-null  int64 \n",
      " 4   VisitPageFlag  184588 non-null  int64 \n",
      "dtypes: int64(4), object(1)\n",
      "memory usage: 7.0+ MB\n"
     ]
    }
   ],
   "source": [
    "# View the DataFrame.\n",
    "df.info()"
   ]
  },
  {
   "cell_type": "markdown",
   "id": "60f15937",
   "metadata": {},
   "source": [
    "## 4. Clean the data"
   ]
  },
  {
   "cell_type": "code",
   "execution_count": 7,
   "id": "94971627",
   "metadata": {},
   "outputs": [
    {
     "name": "stdout",
     "output_type": "stream",
     "text": [
      "(184588, 5)\n",
      "   RecordID    IPAddress  LoyaltyPage  ServerID  VisitPageFlag\n",
      "0         1  39.13.114.2            1         2              0\n",
      "1         2    13.3.25.8            1         1              0\n",
      "2         3  247.8.211.8            1         1              0\n",
      "3         4  124.8.220.3            0         3              0\n",
      "4         5  60.10.192.7            0         2              0\n",
      "<class 'pandas.core.frame.DataFrame'>\n",
      "RangeIndex: 184588 entries, 0 to 184587\n",
      "Data columns (total 5 columns):\n",
      " #   Column         Non-Null Count   Dtype \n",
      "---  ------         --------------   ----- \n",
      " 0   RecordID       184588 non-null  int64 \n",
      " 1   IPAddress      184588 non-null  object\n",
      " 2   LoyaltyPage    184588 non-null  int64 \n",
      " 3   ServerID       184588 non-null  int64 \n",
      " 4   VisitPageFlag  184588 non-null  int64 \n",
      "dtypes: int64(4), object(1)\n",
      "memory usage: 7.0+ MB\n"
     ]
    }
   ],
   "source": [
    "# Rename the columns.\n",
    "df_new = df.rename(columns={'IP Address': 'IPAddress',\n",
    "                            'LoggedInFlag': 'LoyaltyPage'})\n",
    "\n",
    "# View the DataFrame.\n",
    "print(df_new.shape)\n",
    "print(df_new.head())\n",
    "df_new.info()"
   ]
  },
  {
   "cell_type": "code",
   "execution_count": null,
   "id": "4cba55ea",
   "metadata": {},
   "outputs": [],
   "source": [
    "# Drop duplicate values.\n",
    "df_new.drop_duplicates(subset ='IPAddress',\n",
    "                       keep = False,\n",
    "                       inplace = True)\n",
    "\n",
    "\n",
    "# Drop duplicate columns.\n",
    "df_final = df_new.drop(['RecordID', 'VisitPageFlag'],\n",
    "                       axis=1)\n",
    "\n",
    "\n",
    "# View the DataFrame.\n",
    "print(df_final.shape)\n",
    "print(df_final.head())\n",
    "df_final.info()"
   ]
  },
  {
   "cell_type": "markdown",
   "id": "2d304a09",
   "metadata": {},
   "source": [
    "## 5. Subset the DataFrame"
   ]
  },
  {
   "cell_type": "code",
   "execution_count": null,
   "id": "b28e4b1d",
   "metadata": {},
   "outputs": [],
   "source": [
    "# Split the data set into ID1 as treatment and ID2 & ID3 as control groups.\n",
    "df_final['Group'] = df_final['ServerID'].map({1:'Treatment',\n",
    "                                              2:'Control',\n",
    "                                              3:'Control'})\n",
    "\n",
    "# View the DataFrame.\n",
    "print(df_final.shape)\n",
    "df_final.head()"
   ]
  },
  {
   "cell_type": "code",
   "execution_count": null,
   "id": "ca5f29ea",
   "metadata": {},
   "outputs": [],
   "source": [
    "# Count the values.\n",
    "df_final['Group'].value_counts()"
   ]
  },
  {
   "cell_type": "code",
   "execution_count": null,
   "id": "7d0e36f6",
   "metadata": {},
   "outputs": [],
   "source": [
    "# Create two DataFrames.\n",
    "# You can use any random_state.\n",
    "c_sample = df_final[df_final['Group'] == 'Control'].sample(n=1565,\n",
    "                                                           random_state=42) \n",
    "\n",
    "t_sample = df_final[df_final['Group'] == 'Treatment'].sample(n=1565,\n",
    "                                                             random_state=42)\n",
    "\n",
    "# View the DataFrames.\n",
    "print(c_sample.head())\n",
    "t_sample.head()"
   ]
  },
  {
   "cell_type": "markdown",
   "id": "055466e6",
   "metadata": {},
   "source": [
    "## 6. Perform A/B testing"
   ]
  },
  {
   "cell_type": "code",
   "execution_count": null,
   "id": "3508c2a0",
   "metadata": {},
   "outputs": [],
   "source": [
    "# Perform A/B testing.\n",
    "# Create variable and merge DataFrames.\n",
    "ab_test = pd.concat([c_sample, t_sample], axis=0)\n",
    "\n",
    "ab_test.reset_index(drop=True, inplace=True)\n",
    "\n",
    "# View the output.\n",
    "ab_test.head()"
   ]
  },
  {
   "cell_type": "code",
   "execution_count": null,
   "id": "a8ee46bf",
   "metadata": {},
   "outputs": [],
   "source": [
    "# Calculate the conversion rates.\n",
    "conversion_rates = ab_test.groupby('Group')['LoyaltyPage']\n",
    "\n",
    "\n",
    "# Standard deviation of the proportion.\n",
    "STD_p = lambda x: np.std(x, ddof=0)    \n",
    "# Standard error of the proportion.\n",
    "SE_p = lambda x: st.sem(x, ddof=0)     \n",
    "\n",
    "conversion_rates = conversion_rates.agg([np.mean, STD_p, SE_p])\n",
    "\n",
    "conversion_rates.columns = ['conversion_rate',\n",
    "                            'std_deviation',\n",
    "                            'std_error']\n",
    "\n",
    "# Convert output into a Pandas DataFrame.\n",
    "cr = pd.DataFrame(conversion_rates)\n",
    "\n",
    "# View output.\n",
    "cr"
   ]
  },
  {
   "cell_type": "code",
   "execution_count": null,
   "id": "a70b8a50",
   "metadata": {},
   "outputs": [],
   "source": [
    "from statsmodels.stats.proportion import proportions_ztest, proportion_confint\n",
    "\n",
    "control_results = ab_test[ab_test['Group'] == 'Control']['LoyaltyPage']\n",
    "treatment_results = ab_test[ab_test['Group'] == 'Treatment']['LoyaltyPage']\n",
    "\n",
    "n_con = control_results.count()\n",
    "n_treat = treatment_results.count()\n",
    "\n",
    "successes = [control_results.sum(), treatment_results.sum()]\n",
    "\n",
    "nobs = [n_con, n_treat]\n",
    "\n",
    "z_stat, pval = proportions_ztest(successes, nobs=nobs)\n",
    "(lower_con, lower_treat), (upper_con, upper_treat) = proportion_confint(successes,\n",
    "                                                                        nobs=nobs,\n",
    "                                                                        alpha=0.05)\n",
    "\n",
    "print(f'Z test stat: {z_stat:.2f}')\n",
    "print(f'P-value: {pval:.3f}')\n",
    "print(f'Confidence Interval of 95% for control group: [{lower_con:.3f}, {upper_con:.3f}]')\n",
    "print(f'Confidence Interval of 95% for treatment group: [{lower_treat:.3f}, {upper_treat:.3f}]')"
   ]
  },
  {
   "cell_type": "markdown",
   "id": "ecb4521a",
   "metadata": {},
   "source": [
    "## 7. Summarise results and explain your answers"
   ]
  },
  {
   "cell_type": "markdown",
   "id": "76385666",
   "metadata": {},
   "source": [
    "The change to the homepage slightly decreased the click through to the login page. \n",
    "\n",
    "The `p`-value is smaller than the Alpha value of 0.05, meaning we reject the $H_0$. "
   ]
  },
  {
   "cell_type": "code",
   "execution_count": null,
   "id": "8464318a",
   "metadata": {},
   "outputs": [],
   "source": []
  }
 ],
 "metadata": {
  "kernelspec": {
   "display_name": "Python 3 (ipykernel)",
   "language": "python",
   "name": "python3"
  },
  "language_info": {
   "codemirror_mode": {
    "name": "ipython",
    "version": 3
   },
   "file_extension": ".py",
   "mimetype": "text/x-python",
   "name": "python",
   "nbconvert_exporter": "python",
   "pygments_lexer": "ipython3",
   "version": "3.9.13"
  }
 },
 "nbformat": 4,
 "nbformat_minor": 5
}
